{
 "cells": [
  {
   "cell_type": "code",
   "execution_count": 1,
   "metadata": {},
   "outputs": [],
   "source": [
    "import tkinter as tk\n",
    "from tkinter import *\n",
    "import numpy as np\n",
    "import cv2\n",
    "import matplotlib.pyplot as plt"
   ]
  },
  {
   "cell_type": "code",
   "execution_count": 2,
   "metadata": {},
   "outputs": [],
   "source": [
    "root = tk.Tk()\n",
    "root.title(\"Face_Eye_Detector\")\n",
    "root.geometry(\"500x500\")\n",
    "root.resizable(0,0)\n",
    "root.configure(bg='black')\n"
   ]
  },
  {
   "cell_type": "code",
   "execution_count": 3,
   "metadata": {},
   "outputs": [],
   "source": [
    "T = Text(root, height=2, width=18,font=(\"Comic Sans MS\", 32),bg='khaki') \n",
    "T.pack() \n",
    "T.insert(END, 'Face_Eye_Detector')"
   ]
  },
  {
   "cell_type": "code",
   "execution_count": 4,
   "metadata": {},
   "outputs": [],
   "source": [
    "def box():\n",
    "\n",
    "    face_cascade=cv2.CascadeClassifier('haarcascade_frontalface_default.xml')\n",
    "    eye_cascade=cv2.CascadeClassifier('haarcascade_eye.xml')\n",
    "    \n",
    "    \n",
    "    def detect_human(img):\n",
    "        face_img=img.copy()\n",
    "        face_rect=face_cascade.detectMultiScale(face_img)\n",
    "        face_img=img.copy()\n",
    "        eyes_rect=eye_cascade.detectMultiScale(face_img,scaleFactor=1.15,minNeighbors=7)\n",
    "    \n",
    "        for (x,y,w,h) in face_rect:\n",
    "            cv2.rectangle(face_img,(x,y),(x+w,y+h),(0,255,255),10)\n",
    "        \n",
    "        for (x,y,w,h) in eyes_rect:\n",
    "            cv2.rectangle(face_img,(x,y),(x+w,y+h),(255,0,255),10)\n",
    "\n",
    "        return face_img\n",
    "    \n",
    "    \n",
    "    cap=cv2.VideoCapture(0)\n",
    "\n",
    "    while True:\n",
    "        ret,frame=cap.read(0)\n",
    "        frame=detect_human(frame)  \n",
    "    \n",
    "        cv2.imshow(\"Detector\",frame)\n",
    "    \n",
    "        k=cv2.waitKey(1)\n",
    "        if k==27:\n",
    "            break\n",
    "\n",
    "    cap.release()\n",
    "    cv2.destroyAllWindows()\n",
    "\n"
   ]
  },
  {
   "cell_type": "code",
   "execution_count": 5,
   "metadata": {},
   "outputs": [],
   "source": [
    "b=tk.Button(root,text=\"Detect\",height=5,width=15,font=('Comic Sans MS',25,'bold'),bg='DarkOrchid3',fg='Yellow',command=box)\n",
    "b.place(relx=0.5,rely=0.5,anchor='c')\n",
    "tk.mainloop()"
   ]
  },
  {
   "cell_type": "code",
   "execution_count": 12,
   "metadata": {},
   "outputs": [],
   "source": []
  },
  {
   "cell_type": "code",
   "execution_count": null,
   "metadata": {},
   "outputs": [],
   "source": []
  }
 ],
 "metadata": {
  "kernelspec": {
   "display_name": "Python 3",
   "language": "python",
   "name": "python3"
  },
  "language_info": {
   "codemirror_mode": {
    "name": "ipython",
    "version": 3
   },
   "file_extension": ".py",
   "mimetype": "text/x-python",
   "name": "python",
   "nbconvert_exporter": "python",
   "pygments_lexer": "ipython3",
   "version": "3.7.6"
  }
 },
 "nbformat": 4,
 "nbformat_minor": 4
}
